{
  "nbformat": 4,
  "nbformat_minor": 0,
  "metadata": {
    "colab": {
      "provenance": [],
      "include_colab_link": true
    },
    "kernelspec": {
      "name": "python3",
      "display_name": "Python 3"
    },
    "language_info": {
      "name": "python"
    }
  },
  "cells": [
    {
      "cell_type": "markdown",
      "metadata": {
        "id": "view-in-github",
        "colab_type": "text"
      },
      "source": [
        "<a href=\"https://colab.research.google.com/github/SubhashiniDB/Video-Audio-Summarizer/blob/main/VIDEO_%26_AUDIO_SUMMARIZER.ipynb\" target=\"_parent\"><img src=\"https://colab.research.google.com/assets/colab-badge.svg\" alt=\"Open In Colab\"/></a>"
      ]
    },
    {
      "cell_type": "markdown",
      "source": [
        "**VIDEO TO AUDIO CONVERTER**"
      ],
      "metadata": {
        "id": "5Xl8ESZqZ_WH"
      }
    },
    {
      "cell_type": "code",
      "source": [
        "import moviepy.editor as mp"
      ],
      "metadata": {
        "id": "uIbEH3GQVX8d",
        "colab": {
          "base_uri": "https://localhost:8080/"
        },
        "outputId": "d9c81571-1969-49ed-a0f5-3d55e34535e1"
      },
      "execution_count": null,
      "outputs": [
        {
          "output_type": "stream",
          "name": "stdout",
          "text": [
            "Imageio: 'ffmpeg-linux64-v3.3.1' was not found on your computer; downloading it now.\n",
            "Try 1. Download from https://github.com/imageio/imageio-binaries/raw/master/ffmpeg/ffmpeg-linux64-v3.3.1 (43.8 MB)\n",
            "Downloading: 8192/45929032 bytes (0.0%)\b\b\b\b\b\b\b\b\b\b\b\b\b\b\b\b\b\b\b\b\b\b\b\b\b\b2555904/45929032 bytes (5.6%)\b\b\b\b\b\b\b\b\b\b\b\b\b\b\b\b\b\b\b\b\b\b\b\b\b\b\b\b\b4194304/45929032 bytes (9.1%)\b\b\b\b\b\b\b\b\b\b\b\b\b\b\b\b\b\b\b\b\b\b\b\b\b\b\b\b\b6291456/45929032 bytes (13.7%)\b\b\b\b\b\b\b\b\b\b\b\b\b\b\b\b\b\b\b\b\b\b\b\b\b\b\b\b\b\b8486912/45929032 bytes (18.5%)\b\b\b\b\b\b\b\b\b\b\b\b\b\b\b\b\b\b\b\b\b\b\b\b\b\b\b\b\b\b10371072/45929032 bytes (22.6%)\b\b\b\b\b\b\b\b\b\b\b\b\b\b\b\b\b\b\b\b\b\b\b\b\b\b\b\b\b\b\b12189696/45929032 bytes (26.5%)\b\b\b\b\b\b\b\b\b\b\b\b\b\b\b\b\b\b\b\b\b\b\b\b\b\b\b\b\b\b\b14147584/45929032 bytes (30.8%)\b\b\b\b\b\b\b\b\b\b\b\b\b\b\b\b\b\b\b\b\b\b\b\b\b\b\b\b\b\b\b16457728/45929032 bytes (35.8%)\b\b\b\b\b\b\b\b\b\b\b\b\b\b\b\b\b\b\b\b\b\b\b\b\b\b\b\b\b\b\b18890752/45929032 bytes (41.1%)\b\b\b\b\b\b\b\b\b\b\b\b\b\b\b\b\b\b\b\b\b\b\b\b\b\b\b\b\b\b\b21151744/45929032 bytes (46.1%)\b\b\b\b\b\b\b\b\b\b\b\b\b\b\b\b\b\b\b\b\b\b\b\b\b\b\b\b\b\b\b23576576/45929032 bytes (51.3%)\b\b\b\b\b\b\b\b\b\b\b\b\b\b\b\b\b\b\b\b\b\b\b\b\b\b\b\b\b\b\b25985024/45929032 bytes (56.6%)\b\b\b\b\b\b\b\b\b\b\b\b\b\b\b\b\b\b\b\b\b\b\b\b\b\b\b\b\b\b\b28442624/45929032 bytes (61.9%)\b\b\b\b\b\b\b\b\b\b\b\b\b\b\b\b\b\b\b\b\b\b\b\b\b\b\b\b\b\b\b30916608/45929032 bytes (67.3%)\b\b\b\b\b\b\b\b\b\b\b\b\b\b\b\b\b\b\b\b\b\b\b\b\b\b\b\b\b\b\b33808384/45929032 bytes (73.6%)\b\b\b\b\b\b\b\b\b\b\b\b\b\b\b\b\b\b\b\b\b\b\b\b\b\b\b\b\b\b\b36552704/45929032 bytes (79.6%)\b\b\b\b\b\b\b\b\b\b\b\b\b\b\b\b\b\b\b\b\b\b\b\b\b\b\b\b\b\b\b39460864/45929032 bytes (85.9%)\b\b\b\b\b\b\b\b\b\b\b\b\b\b\b\b\b\b\b\b\b\b\b\b\b\b\b\b\b\b\b42188800/45929032 bytes (91.9%)\b\b\b\b\b\b\b\b\b\b\b\b\b\b\b\b\b\b\b\b\b\b\b\b\b\b\b\b\b\b\b44892160/45929032 bytes (97.7%)\b\b\b\b\b\b\b\b\b\b\b\b\b\b\b\b\b\b\b\b\b\b\b\b\b\b\b\b\b\b\b45929032/45929032 bytes (100.0%)\n",
            "  Done\n",
            "File saved as /root/.imageio/ffmpeg/ffmpeg-linux64-v3.3.1.\n"
          ]
        }
      ]
    },
    {
      "cell_type": "code",
      "source": [
        "my_clip = mp.VideoFileClip(\"/content/Machine Learning Basics_ Simplilearn.mp4\")"
      ],
      "metadata": {
        "id": "Fc7cWfDZVYhc"
      },
      "execution_count": null,
      "outputs": []
    },
    {
      "cell_type": "code",
      "source": [
        "my_clip.audio.write_audiofile(r\"Converted audio.mp3\")"
      ],
      "metadata": {
        "colab": {
          "base_uri": "https://localhost:8080/"
        },
        "id": "inmlDYQdVg3y",
        "outputId": "ca3fdfed-ab4c-45fd-cf85-dd4ced46c4e5"
      },
      "execution_count": null,
      "outputs": [
        {
          "output_type": "stream",
          "name": "stdout",
          "text": [
            "[MoviePy] Writing audio in Converted audio.mp3\n"
          ]
        },
        {
          "output_type": "stream",
          "name": "stderr",
          "text": [
            "100%|██████████| 10404/10404 [00:10<00:00, 966.22it/s] "
          ]
        },
        {
          "output_type": "stream",
          "name": "stdout",
          "text": [
            "[MoviePy] Done.\n"
          ]
        },
        {
          "output_type": "stream",
          "name": "stderr",
          "text": [
            "\n"
          ]
        }
      ]
    },
    {
      "cell_type": "markdown",
      "source": [
        "**AUDIO TO TEXT CONVERTER**"
      ],
      "metadata": {
        "id": "Klb2gcH-sKDi"
      }
    },
    {
      "cell_type": "code",
      "source": [
        "pip install SpeechRecognition"
      ],
      "metadata": {
        "colab": {
          "base_uri": "https://localhost:8080/"
        },
        "id": "Daag8hmKhnOU",
        "outputId": "fbe34849-cc70-463a-f7e3-c4ca7fba67a2"
      },
      "execution_count": null,
      "outputs": [
        {
          "output_type": "stream",
          "name": "stdout",
          "text": [
            "Collecting SpeechRecognition\n",
            "  Downloading SpeechRecognition-3.8.1-py2.py3-none-any.whl (32.8 MB)\n",
            "\u001b[K     |████████████████████████████████| 32.8 MB 1.2 MB/s \n",
            "\u001b[?25hInstalling collected packages: SpeechRecognition\n",
            "Successfully installed SpeechRecognition-3.8.1\n"
          ]
        }
      ]
    },
    {
      "cell_type": "code",
      "source": [
        "pip install pydub"
      ],
      "metadata": {
        "colab": {
          "base_uri": "https://localhost:8080/"
        },
        "id": "LVWVCrjTAb2Q",
        "outputId": "a8ae1985-f5be-485b-b1ae-d8c87e9cd843"
      },
      "execution_count": null,
      "outputs": [
        {
          "output_type": "stream",
          "name": "stdout",
          "text": [
            "Collecting pydub\n",
            "  Downloading pydub-0.25.1-py2.py3-none-any.whl (32 kB)\n",
            "Installing collected packages: pydub\n",
            "Successfully installed pydub-0.25.1\n"
          ]
        }
      ]
    },
    {
      "cell_type": "code",
      "source": [
        "# importing libraries\n",
        "import speech_recognition as sr\n",
        "\n",
        "import os\n",
        "\n",
        "from pydub import AudioSegment\n",
        "from pydub.silence import split_on_silence\n",
        "\n",
        "# a function that splits the audio file into chunks and applies speech recognition\n",
        "def silence_based_conversion(path):\n",
        "\n",
        "\t# open the audio file stored in\n",
        "\tsong = AudioSegment.from_mp3(path)\n",
        "\n",
        "\t# open a file to store the recognized text\n",
        "\tfh = open(\"recognized.txt\", \"w+\")\n",
        "\n",
        "\t# split track where silence is 0.5 seconds or 500 ms or -16 dBFS or more and get chunks\n",
        "\tchunks = split_on_silence(song, min_silence_len = 500, silence_thresh = -16)\n",
        "\n",
        "\t# create a directory to store the audio chunks.\n",
        "\ttry:\n",
        "\t\tos.mkdir('list_of_audio_chunks')\n",
        "\texcept(FileExistsError):\n",
        "\t\tpass\n",
        "\n",
        "\t# move into the directory to store the audio files.\n",
        "\tos.chdir('list_of_audio_chunks')\n",
        "\n",
        "\ti = 0\n",
        "\t# process each chunk\n",
        "\tfor chunk in chunks:\n",
        "\n",
        "\t\t# Create 0.5 seconds silence chunk\n",
        "\t\tchunk_silent = AudioSegment.silent(duration = 10)\n",
        "\n",
        "\t\t# add 0.5 sec silence to beginning and end of audio chunk.\n",
        "\t\taudio_chunk = chunk_silent + chunk + chunk_silent\n",
        "\n",
        "\t\t# export audio chunk and save it in the current directory.\n",
        "\t\tprint(\"saving chunk{0}.wav\".format(i))\n",
        "\t\t# specify the bitrate to be 192 k\n",
        "\t\taudio_chunk.export(\"./chunk{0}.wav\".format(i), bitrate ='192k', format =\"wav\")\n",
        "\n",
        "\t\t# the name of the newly created chunk\n",
        "\t\tfilename = 'chunk'+str(i)+'.wav'\n",
        "\n",
        "\t\tprint(\"Processing chunk \"+str(i))\n",
        "\t\tfile = filename\n",
        "\n",
        "\t\t# create a speech recognition object\n",
        "\t\tr = sr.Recognizer()\n",
        "\n",
        "\t\t# recognize the chunk\n",
        "\t\twith sr.AudioFile(file) as source:\n",
        "\t\t\tr.adjust_for_ambient_noise(source)\n",
        "\t\t\taudio_listened = r.listen(source)\n",
        "\n",
        "\t\ttry:\n",
        "\t\t\t# converting to text\n",
        "\t\t\trec = r.recognize_google(audio_listened)\n",
        "\t\t\t# write the output to the file.\n",
        "\t\t\tfh.write(rec+\". \")\n",
        "\n",
        "\t\texcept sr.UnknownValueError:\n",
        "\t\t\tprint(\"Could not recognize audio\")\n",
        "\n",
        "\t\texcept sr.RequestError as e:\n",
        "\t\t\tprint(\"Could not recognize audio\")\n",
        "\n",
        "\t\ti += 1\n",
        "\n",
        "\tos.chdir('..')\n",
        "\n",
        "\n",
        "if __name__ == '__main__':\n",
        "\tprint('Enter the audio file path')\n",
        "\tpath = input()\n",
        "\tsilence_based_conversion(path)"
      ],
      "metadata": {
        "colab": {
          "base_uri": "https://localhost:8080/"
        },
        "id": "WUqeCFLcvh6C",
        "outputId": "8b9982f6-daea-47cc-a71c-cb8e6e055913"
      },
      "execution_count": null,
      "outputs": [
        {
          "output_type": "stream",
          "name": "stdout",
          "text": [
            "Enter the audio file path\n",
            "/content/Converted audio.mp3\n",
            "saving chunk0.wav\n",
            "Processing chunk 0\n",
            " \n",
            "saving chunk1.wav\n",
            "Processing chunk 1\n",
            " \n",
            "saving chunk2.wav\n",
            "Processing chunk 2\n",
            " \n",
            "saving chunk3.wav\n",
            "Processing chunk 3\n",
            " \n",
            "saving chunk4.wav\n",
            "Processing chunk 4\n",
            " \n",
            "saving chunk5.wav\n",
            "Processing chunk 5\n",
            " \n",
            "saving chunk6.wav\n",
            "Processing chunk 6\n",
            " \n",
            "saving chunk7.wav\n",
            "Processing chunk 7\n",
            " \n",
            "saving chunk8.wav\n",
            "Processing chunk 8\n",
            " \n",
            "saving chunk9.wav\n",
            "Processing chunk 9\n",
            " \n",
            "saving chunk10.wav\n",
            "Processing chunk 10\n",
            " \n",
            "saving chunk11.wav\n",
            "Processing chunk 11\n",
            " \n",
            "saving chunk12.wav\n",
            "Processing chunk 12\n",
            " \n",
            "saving chunk13.wav\n",
            "Processing chunk 13\n",
            " \n",
            "saving chunk14.wav\n",
            "Processing chunk 14\n",
            " \n",
            "saving chunk15.wav\n",
            "Processing chunk 15\n",
            " \n",
            "saving chunk16.wav\n",
            "Processing chunk 16\n",
            " \n",
            "saving chunk17.wav\n",
            "Processing chunk 17\n",
            " \n",
            "saving chunk18.wav\n",
            "Processing chunk 18\n",
            " \n",
            "saving chunk19.wav\n",
            "Processing chunk 19\n",
            " \n",
            "saving chunk20.wav\n",
            "Processing chunk 20\n",
            " \n",
            "saving chunk21.wav\n",
            "Processing chunk 21\n",
            " \n",
            "saving chunk22.wav\n",
            "Processing chunk 22\n",
            " \n",
            "saving chunk23.wav\n",
            "Processing chunk 23\n",
            " \n",
            "saving chunk24.wav\n",
            "Processing chunk 24\n",
            " \n",
            "saving chunk25.wav\n",
            "Processing chunk 25\n",
            " \n",
            "saving chunk26.wav\n",
            "Processing chunk 26\n",
            " \n",
            "saving chunk27.wav\n",
            "Processing chunk 27\n",
            " \n",
            "saving chunk28.wav\n",
            "Processing chunk 28\n",
            " \n",
            "saving chunk29.wav\n",
            "Processing chunk 29\n",
            " \n",
            "saving chunk30.wav\n",
            "Processing chunk 30\n",
            " \n",
            "saving chunk31.wav\n",
            "Processing chunk 31\n",
            " \n",
            "saving chunk32.wav\n",
            "Processing chunk 32\n",
            " \n",
            "saving chunk33.wav\n",
            "Processing chunk 33\n",
            " \n",
            "saving chunk34.wav\n",
            "Processing chunk 34\n",
            " \n",
            "saving chunk35.wav\n",
            "Processing chunk 35\n",
            " \n",
            "saving chunk36.wav\n",
            "Processing chunk 36\n",
            " \n",
            "saving chunk37.wav\n",
            "Processing chunk 37\n",
            " \n",
            "saving chunk38.wav\n",
            "Processing chunk 38\n",
            " \n",
            "saving chunk39.wav\n",
            "Processing chunk 39\n",
            " \n",
            "saving chunk40.wav\n",
            "Processing chunk 40\n",
            " \n",
            "saving chunk41.wav\n",
            "Processing chunk 41\n",
            " \n",
            "saving chunk42.wav\n",
            "Processing chunk 42\n",
            " \n",
            "saving chunk43.wav\n",
            "Processing chunk 43\n",
            " \n",
            "saving chunk44.wav\n",
            "Processing chunk 44\n",
            " \n",
            "saving chunk45.wav\n",
            "Processing chunk 45\n",
            " \n",
            "saving chunk46.wav\n",
            "Processing chunk 46\n",
            " \n"
          ]
        }
      ]
    },
    {
      "cell_type": "markdown",
      "source": [
        "**TEXT SUMMARIZER**"
      ],
      "metadata": {
        "id": "vNVepIENhMw1"
      }
    },
    {
      "cell_type": "code",
      "source": [
        "import nltk\n",
        "nltk.download('punkt')\n",
        "nltk.download('stopwords')"
      ],
      "metadata": {
        "colab": {
          "base_uri": "https://localhost:8080/"
        },
        "id": "71BFuXhSM3tP",
        "outputId": "9ef416a3-c6be-41e1-c4cb-813d6603b560"
      },
      "execution_count": null,
      "outputs": [
        {
          "output_type": "stream",
          "name": "stdout",
          "text": [
            "[nltk_data] Downloading package punkt to /root/nltk_data...\n",
            "[nltk_data]   Unzipping tokenizers/punkt.zip.\n",
            "[nltk_data] Downloading package stopwords to /root/nltk_data...\n",
            "[nltk_data]   Unzipping corpora/stopwords.zip.\n"
          ]
        },
        {
          "output_type": "execute_result",
          "data": {
            "text/plain": [
              "True"
            ]
          },
          "metadata": {},
          "execution_count": 8
        }
      ]
    },
    {
      "cell_type": "code",
      "source": [
        "# importing libraries\n",
        "import nltk\n",
        "from nltk.corpus import stopwords\n",
        "from nltk.tokenize import word_tokenize, sent_tokenize\n",
        "\n",
        "# Input text - to summarize\n",
        "with open('/content/recognized.txt') as f:\n",
        "    text = f.read()\n",
        "    print(f\"ORIGINAL TEXT : \\n{text}\")\n",
        "\n",
        "# Tokenizing the text\n",
        "stopWords = set(stopwords.words(\"english\"))\n",
        "words = word_tokenize(text)\n",
        "\n",
        "# Creating a frequency table to keep the score of each word\n",
        "freqTable = dict()\n",
        "for word in words:\n",
        "\tword = word.lower()\n",
        "\tif word in freqTable:\n",
        "\t\tfreqTable[word] += 1\n",
        "\telse:\n",
        "\t\tfreqTable[word] = 1\n",
        "\n",
        "# Creating a dictionary to keep the score of each sentence\n",
        "sentences = sent_tokenize(text)\n",
        "sentenceValue = dict()\n",
        "\n",
        "for sentence in sentences:\n",
        "\tfor word, freq in freqTable.items():\n",
        "\t\tif word in sentence.lower():\n",
        "\t\t\tif sentence in sentenceValue:\n",
        "\t\t\t\tsentenceValue[sentence] += freq\n",
        "\t\t\telse:\n",
        "\t\t\t\tsentenceValue[sentence] = freq\n",
        "\n",
        "# Summing up values of all the words\n",
        "\n",
        "sumValues = 0\n",
        "for sentence in sentenceValue:\n",
        "\tsumValues += sentenceValue[sentence]\n",
        "\n",
        "# Average value of a sentence from the original text\n",
        "\n",
        "average = int(sumValues / len(sentenceValue))\n",
        "print(f\"AVERAGE : \\n{average * 1.2}\")\n",
        "\n",
        "# Storing sentences into our summary.\n",
        "\n",
        "summary = ''\n",
        "for sentence in sentences:\n",
        "\tif (sentence in sentenceValue) and (sentenceValue[sentence] > (1.2 * average)):\n",
        "\t\tsummary += \" \" + sentence\n",
        "print(f\"SUMMARY : \\n{summary}\")\n",
        "\n",
        "# Writing summary to file\n",
        "\n",
        "fh = open(\"Text-summary.txt\", \"w+\")\n",
        "fh.write(summary+\". \")"
      ],
      "metadata": {
        "colab": {
          "base_uri": "https://localhost:8080/"
        },
        "id": "tznV_mSOMZtD",
        "outputId": "4468e2e9-7077-47fe-9d5d-e957b136faaf"
      },
      "execution_count": null,
      "outputs": [
        {
          "output_type": "stream",
          "name": "stdout",
          "text": [
            "ORIGINAL TEXT : \n",
            "﻿We know humans learn from their past experiences and machines follow instructions given by humans  but what if humans can train the machines to learn from the past data and do what humans can do and much faster well that's called machine learning. But it's a lot more than just learning its also about understanding and reasoning. So today we will learn about the basics of machine learning. so that's paul he loves listening to new Songs he either likes them or dislikes them. paul decides this on the basis of the song's tempo Genre intensity and the gender of voice for simplicity intensity for now. so here tempo is on the x axis ranging from relaxed to fast whereas intensity is on the y axis ranging from light to soaring we see that paul likes the song with fast tempo and soaring intensity while he dislikes the song with relaxed tempo and light intensity. so now we know paul's choices. let's say paul listens to a new song let's name it as song a song a has fast tempo and a soaring intensity so it lies somewhere here. looking at the data can you guess whether paul will like the song or not correct so paul likes this song. by looking at paul's past choices we were able to classify the unknown song very easily right. let's say now paul listens to a new song. let's label it as song b so song b lies somewhere here with medium tempo and medium intensity neither relaxed nor fast neither light nor soaring. now can you guess whether paul likes it or not able to guess whether paul will like it or dislike it are the choices we could easily classify song a but when the choice became complicated as in the case of song b yes and that's where machine learning comes in. let's see how in the same example for song b if we draw a circle around the song b we see that there are four votes for like whereas one word for dislike if we go for the majority votes we can say that paul will definitely like the song that's all this was a basic machine learning algorithm also it's called k-nearest neighbors. so this is just a small example in one of the many machine learning algorithms quite easy right believe me it is but what happens when the choices become complicated as in the case of song b that's when machine learning comes in it learns the data builds the prediction model and when the new data point comes in it can easily predict for it. more the data better the model higher will be the accuracy there are many ways in which the machine learns it could be either supervised learning unsupervised learning or reinforcement learning. let's first quickly understand supervised learning suppose your friend gives you one million coins of three different currencies say one rupee one euro and one dirham. each coin has different weights. for example a coin of one rupee weighs three grams one euro weighs seven grams and one dirham weighs four grams your model will predict the currency of the coin here your weight becomes the feature of coins while currency become the label when you feed this data to the machine learning model it learns which feature is associated with which label. for example it will learn that if a coin is of 3 grams it will be a 1 rupee coin. let's give a new coin to the machine on the basis of the weight of the new coin. your model will predict the currency. hence supervised learning uses labeled data to train the model here the machine knew the features of the object and also the labels associated with those features. on this note let's move to unsupervised learning and see the difference. suppose you have cricket data set of various players with their respective scores and wickets taken when you feed this data set to the machine the machine identifies the pattern of player performance so it plots this data with the respective wickets on the x-axis while runs on the y-axis. while looking at the data you will clearly see that there are two clusters the one cluster are the players who scored higher runs and took less wickets while the other cluster is of the players who scored less runs but took many wickets. so here we interpret these two clusters as batsmen and bowlers the important point to note here is that there were no labels of batsmen and bowlers. hence the learning with unlabeled data is unsupervised learning so we saw supervised learning where the data was labeled and the unsupervised learning where the data was unlabeled and then there is reinforcement learning which is a reward based learning or we can say that it works on the principle of feedback. here let's say you provide the system with an image of a dog and ask it to identify it the system identifies it as a cat so you give a negative feedback to the machine saying that it's a dog's image the machine will learn from the feedback and finally if it comes across any other image of a dog it will be able to classify it correctly that is reinforcement learning. to generalize machine learning model let's see a flowchart input is given to a machine learning model which then gives the output according to the algorithm applied if it's right we take the output as a final result else we provide feedback to the training model and ask it to predict until it learns. i hope you've understood supervised and unsupervised learning so let's have a quick quiz you have to determine whether the given scenarios uses supervised or unsupervised learning simple right scenario one facebook recognizes your friend in a picture from an album of tagged photographs scenario 2 netflix recommends new movies based on someone's past movie choices scenario 3 analyzing bank data for suspicious transactions and flagging the fraud transactions think wisely and comment below your answers. moving on don't you sometimes wonder how is machine learning possible in today's era well that's because today we have humongous data available everybody is online either making a transaction or just surfing the internet and that's generating a huge amount of data every minute and that data my friend is the key to analysis. also the memory handling capabilities of computers have largely increased which helps them to process such huge amount of data at hand without any delay and yes computers now have great computational powers. so there are a lot of applications of machine learning out there to name a few machine learning is used in healthcare where diagnostics are predicted for doctor's review the sentiment analysis that the tech giants are doing on social media is another interesting application of machine learning. fraud detection in the finance sector and also to predict customer churn in the e-commerce sector. while booking a cab you must have encountered surge pricing often where it says the fare of your trip has been updated continue booking yes please i'm getting late for office. well that's an interesting machine learning model which is used by global taxi giant uber and others where they have differential pricing in real time based on demand the number of cars available bad weather rush  etc. so they use the search pricing model to ensure that those who need a cab can get one also it uses predictive modeling to predict where the demand will be high with the goal that drivers can take care of the demand and search pricing can be minimized great. hey siri can you remind me to book a cab at 6 00 pm today okay i'll remind you thanks no problem. comment below some interesting everyday examples around you where machines are learning and doing amazing jobs. so that's all for machine learning basics today from my site.  keep watching this space for more interesting videos until then happy learning\n",
            "AVERAGE : \n",
            "516.0\n",
            "SUMMARY : \n",
            " now can you guess whether paul likes it or not able to guess whether paul will like it or dislike it are the choices we could easily classify song a but when the choice became complicated as in the case of song b yes and that's where machine learning comes in. let's see how in the same example for song b if we draw a circle around the song b we see that there are four votes for like whereas one word for dislike if we go for the majority votes we can say that paul will definitely like the song that's all this was a basic machine learning algorithm also it's called k-nearest neighbors. so this is just a small example in one of the many machine learning algorithms quite easy right believe me it is but what happens when the choices become complicated as in the case of song b that's when machine learning comes in it learns the data builds the prediction model and when the new data point comes in it can easily predict for it. for example a coin of one rupee weighs three grams one euro weighs seven grams and one dirham weighs four grams your model will predict the currency of the coin here your weight becomes the feature of coins while currency become the label when you feed this data to the machine learning model it learns which feature is associated with which label. hence supervised learning uses labeled data to train the model here the machine knew the features of the object and also the labels associated with those features. suppose you have cricket data set of various players with their respective scores and wickets taken when you feed this data set to the machine the machine identifies the pattern of player performance so it plots this data with the respective wickets on the x-axis while runs on the y-axis. hence the learning with unlabeled data is unsupervised learning so we saw supervised learning where the data was labeled and the unsupervised learning where the data was unlabeled and then there is reinforcement learning which is a reward based learning or we can say that it works on the principle of feedback. here let's say you provide the system with an image of a dog and ask it to identify it the system identifies it as a cat so you give a negative feedback to the machine saying that it's a dog's image the machine will learn from the feedback and finally if it comes across any other image of a dog it will be able to classify it correctly that is reinforcement learning. to generalize machine learning model let's see a flowchart input is given to a machine learning model which then gives the output according to the algorithm applied if it's right we take the output as a final result else we provide feedback to the training model and ask it to predict until it learns. i hope you've understood supervised and unsupervised learning so let's have a quick quiz you have to determine whether the given scenarios uses supervised or unsupervised learning simple right scenario one facebook recognizes your friend in a picture from an album of tagged photographs scenario 2 netflix recommends new movies based on someone's past movie choices scenario 3 analyzing bank data for suspicious transactions and flagging the fraud transactions think wisely and comment below your answers. moving on don't you sometimes wonder how is machine learning possible in today's era well that's because today we have humongous data available everybody is online either making a transaction or just surfing the internet and that's generating a huge amount of data every minute and that data my friend is the key to analysis. well that's an interesting machine learning model which is used by global taxi giant uber and others where they have differential pricing in real time based on demand the number of cars available bad weather rush  etc.\n"
          ]
        },
        {
          "output_type": "execute_result",
          "data": {
            "text/plain": [
              "3773"
            ]
          },
          "metadata": {},
          "execution_count": 9
        }
      ]
    },
    {
      "cell_type": "markdown",
      "source": [
        "**SUMMARIZED TEXT - AUDIO**"
      ],
      "metadata": {
        "id": "iziH8f3ZhSSW"
      }
    },
    {
      "cell_type": "code",
      "source": [
        "pip install gtts"
      ],
      "metadata": {
        "colab": {
          "base_uri": "https://localhost:8080/"
        },
        "id": "nohS23-GczgB",
        "outputId": "7955d9bf-e054-41b1-9b7d-b873c68c65c1"
      },
      "execution_count": null,
      "outputs": [
        {
          "output_type": "stream",
          "name": "stdout",
          "text": [
            "Collecting gtts\n",
            "  Downloading gTTS-2.2.4-py3-none-any.whl (26 kB)\n",
            "Requirement already satisfied: click in /usr/local/lib/python3.7/dist-packages (from gtts) (7.1.2)\n",
            "Requirement already satisfied: requests in /usr/local/lib/python3.7/dist-packages (from gtts) (2.23.0)\n",
            "Requirement already satisfied: six in /usr/local/lib/python3.7/dist-packages (from gtts) (1.15.0)\n",
            "Requirement already satisfied: idna<3,>=2.5 in /usr/local/lib/python3.7/dist-packages (from requests->gtts) (2.10)\n",
            "Requirement already satisfied: certifi>=2017.4.17 in /usr/local/lib/python3.7/dist-packages (from requests->gtts) (2021.10.8)\n",
            "Requirement already satisfied: urllib3!=1.25.0,!=1.25.1,<1.26,>=1.21.1 in /usr/local/lib/python3.7/dist-packages (from requests->gtts) (1.24.3)\n",
            "Requirement already satisfied: chardet<4,>=3.0.2 in /usr/local/lib/python3.7/dist-packages (from requests->gtts) (3.0.4)\n",
            "Installing collected packages: gtts\n",
            "Successfully installed gtts-2.2.4\n"
          ]
        }
      ]
    },
    {
      "cell_type": "code",
      "source": [
        "# Import the required module for text to speech conversion\n",
        "from gtts import gTTS\n",
        "\n",
        "# Input text - to summarize\n",
        "with open('/content/Text-summary.txt') as f:\n",
        "    text = f.read()\n",
        "\n",
        "# Conversion\n",
        "audio = gTTS(text=text, lang='en', slow=False)\n",
        "\n",
        "# Saving the converted audio in a mp3 file\n",
        "audio.save(\"Audio-summary.mp3\")"
      ],
      "metadata": {
        "id": "roGiFCx_Rr9P"
      },
      "execution_count": null,
      "outputs": []
    }
  ]
}